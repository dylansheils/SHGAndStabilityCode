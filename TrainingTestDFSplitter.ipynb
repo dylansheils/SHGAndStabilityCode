{
 "cells": [
  {
   "cell_type": "code",
   "execution_count": 1,
   "id": "f690e48c",
   "metadata": {},
   "outputs": [],
   "source": [
    "def classifyThermoStability(value):\n",
    "    if(value <= 0.02):\n",
    "        return 0\n",
    "    else:\n",
    "        return 1"
   ]
  },
  {
   "cell_type": "code",
   "execution_count": 3,
   "id": "101568e1",
   "metadata": {
    "scrolled": true
   },
   "outputs": [],
   "source": [
    "import pandas as pd\n",
    "import numpy as np\n",
    "import random\n",
    "\n",
    "df = pd.read_csv('thermoSitffness.csv')\n",
    "#df['thermo'] = df['thermo'].apply(classifyThermoStability)\n",
    "#df.to_csv(r'C:\\\\Users\\\\dylan\\\\Desktop\\\\aviary-github\\\\aviary\\\\thermoStabilityTest.csv')\n",
    "\n",
    "#df.to_csv(r'C:\\Users\\dylan\\Desktop\\aviary\\aviary\\thermoStabilityTest.csv')\n",
    "#import torch\n",
    "#print(x)\n",
    "df['split'] = np.random.randn(df.shape[0], 1)\n",
    "msk = np.random.rand(len(df)) <= 0.8\n",
    "train = df[msk]\n",
    "train.to_csv( 'thermoStiffnessTraining.csv')\n",
    "test = df[~msk]\n",
    "test.to_csv( 'thermoStiffnessTest.csv')"
   ]
  },
  {
   "cell_type": "code",
   "execution_count": 29,
   "id": "6c1d5f8b",
   "metadata": {},
   "outputs": [],
   "source": [
    "import pandas as pd\n",
    "\n",
    "import numpy as np\n",
    "\n",
    "df['split'] = np.random.randn(df.shape[0], 1)\n",
    "msk = np.random.rand(len(df)) <= 0.8\n",
    "train = df[msk]\n",
    "train.to_csv( r'C:\\Users\\dylan\\Desktop\\aviary-github\\aviary\\thermoStabilityTraining.csv')\n",
    "test = df[~msk]\n",
    "test.to_csv( r'C:\\Users\\dylan\\Desktop\\aviary-github\\aviary\\thermoStabilityTest.csv')"
   ]
  },
  {
   "cell_type": "code",
   "execution_count": 2,
   "id": "ac61204f",
   "metadata": {},
   "outputs": [],
   "source": [
    "split_file(r'C:\\Users\\dylan\\Downloads\\newPhonon.csv', r'C:\\Users\\dylan\\Desktop\\generatedData\\phononTraining.csv', r'C:\\Users\\dylan\\Desktop\\generatedData\\phononTesting.csv', .80)"
   ]
  },
  {
   "cell_type": "code",
   "execution_count": null,
   "id": "4a38e20d",
   "metadata": {},
   "outputs": [],
   "source": []
  }
 ],
 "metadata": {
  "kernelspec": {
   "display_name": "Python 3 (ipykernel)",
   "language": "python",
   "name": "python3"
  },
  "language_info": {
   "codemirror_mode": {
    "name": "ipython",
    "version": 3
   },
   "file_extension": ".py",
   "mimetype": "text/x-python",
   "name": "python",
   "nbconvert_exporter": "python",
   "pygments_lexer": "ipython3",
   "version": "3.8.5"
  }
 },
 "nbformat": 4,
 "nbformat_minor": 5
}
