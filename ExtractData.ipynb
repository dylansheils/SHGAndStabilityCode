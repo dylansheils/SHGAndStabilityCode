{
 "cells": [
  {
   "cell_type": "code",
   "execution_count": 1,
   "id": "9c9d7e0a",
   "metadata": {},
   "outputs": [],
   "source": [
    "import requests\n",
    "from bs4 import BeautifulSoup\n",
    "import json\n",
    "from numba import jit\n",
    "import cchardet\n",
    "\n",
    "url = 'http://phonondb.mtl.kyoto-u.ac.jp/ph20180417/index.html'\n",
    "reqs = requests.get(url)\n",
    "soup = BeautifulSoup(reqs.text, 'html.parser')\n",
    " \n",
    "urls = []\n",
    "materialsGathered = []\n",
    "for link in soup.find_all('a'):\n",
    "    if(\"mp\" in link.get('href')):\n",
    "        urls.append(link.get('href'))\n",
    "        materialsGathered.append(link.get('href').rsplit('/', 1)[-1].rsplit('.html', 1)[0])"
   ]
  },
  {
   "cell_type": "code",
   "execution_count": 6,
   "id": "4f4929b4",
   "metadata": {},
   "outputs": [
    {
     "name": "stdout",
     "output_type": "stream",
     "text": [
      "{\"response\": [{\"energy\": -66.69195172, \"energy_per_atom\": -8.336493965, \"volume\": 200.81013474720945, \"formation_energy_per_atom\": 8.881784197001252e-16, \"nsites\": 8, \"unit_cell_formula\": {\"N\": 8.0}, \"pretty_formula\": \"N2\", \"is_hubbard\": false, \"elements\": [\"N\"], \"nelements\": 1, \"e_above_hull\": 2.6645352591003757e-15, \"hubbards\": {}, \"is_compatible\": true, \"spacegroup\": {\"symprec\": 0.1, \"source\": \"spglib\", \"symbol\": \"Pa-3\", \"number\": 205, \"point_group\": \"m-3\", \"crystal_system\": \"cubic\", \"hall\": \"-P 2ac 2ab 3\"}, \"task_ids\": [\"mp-660823\", \"mp-656877\", \"mp-655310\", \"mp-25\", \"mp-1429258\", \"mp-1593675\", \"mp-1701062\"], \"band_gap\": 7.4563999999999995, \"density\": 0.926593573513627, \"icsd_id\": null, \"icsd_ids\": [28179, 426956, 15472, 26482], \"cif\": \"# generated using pymatgen\\ndata_N2\\n_symmetry_space_group_name_H-M   'P 1'\\n_cell_length_a   5.85592100\\n_cell_length_b   5.85592100\\n_cell_length_c   5.85592100\\n_cell_angle_alpha   90.00000000\\n_cell_angle_beta   90.00000000\\n_cell_angle_gamma   90.00000000\\n_symmetry_Int_Tables_number   1\\n_chemical_formula_structural   N2\\n_chemical_formula_sum   N8\\n_cell_volume   200.81013475\\n_cell_formula_units_Z   4\\nloop_\\n _symmetry_equiv_pos_site_id\\n _symmetry_equiv_pos_as_xyz\\n  1  'x, y, z'\\nloop_\\n _atom_site_type_symbol\\n _atom_site_label\\n _atom_site_symmetry_multiplicity\\n _atom_site_fract_x\\n _atom_site_fract_y\\n _atom_site_fract_z\\n _atom_site_occupancy\\n  N  N0  1  0.05486900  0.05486900  0.05486900  1\\n  N  N1  1  0.44513100  0.94513100  0.55486900  1\\n  N  N2  1  0.55486900  0.44513100  0.94513100  1\\n  N  N3  1  0.94513100  0.55486900  0.44513100  1\\n  N  N4  1  0.94513100  0.94513100  0.94513100  1\\n  N  N5  1  0.55486900  0.05486900  0.44513100  1\\n  N  N6  1  0.44513100  0.55486900  0.05486900  1\\n  N  N7  1  0.05486900  0.44513100  0.55486900  1\\n\", \"total_magnetization\": 0.0, \"material_id\": \"mp-25\", \"oxide_type\": \"None\", \"tags\": [\"Nitrogen - alpha\", \"Nitrogen\", \"Dinitrogen - alpha\"], \"elasticity\": {\"G_Reuss\": 1.0, \"G_VRH\": 1.0, \"G_Voigt\": 1.0, \"G_Voigt_Reuss_Hill\": 1.0, \"K_Reuss\": 1.0, \"K_VRH\": 1.0, \"K_Voigt\": 1.0, \"K_Voigt_Reuss_Hill\": 1.0, \"elastic_anisotropy\": 1.49, \"elastic_tensor\": [[2.0, 1.0, 1.0, 0.0, 0.0, 0.0], [1.0, 2.0, 1.0, 0.0, 0.0, 0.0], [1.0, 1.0, 2.0, 0.0, 0.0, 0.0], [0.0, 0.0, 0.0, 1.0, 0.0, 0.0], [0.0, 0.0, 0.0, 0.0, 1.0, 0.0], [0.0, 0.0, 0.0, 0.0, 0.0, 1.0]], \"homogeneous_poisson\": 0.28, \"poisson_ratio\": 0.28, \"universal_anisotropy\": 1.49, \"elastic_tensor_original\": [[1.9097246927986018, 1.3000320079066316, 1.300154243488926, 0.0, 0.0, 0.0], [0.9580180560354868, 1.7047936974000661, 0.9578679443997702, 0.0, 0.0, 0.0], [0.9623875303896177, 0.9625347532547257, 1.709291566241514, 0.0, 0.0, 0.0], [2.2200017814395922e-06, 2.356668557846506e-06, 3.0466691113889286e-06, 1.0301313999245536, 0.0, 0.0], [5.233337534118979e-07, 3.2666692886291e-07, 3.0000024074694093e-07, 0.0, 1.0078750553990978, 0.0], [-8.100006499728551e-07, -5.833338013711158e-07, -8.233339939759828e-07, 0.0, 0.0, 1.0099612270730702]], \"compliance_tensor\": [[1035.9, -390.4, -390.4, -0.0, 0.0, 0.0], [-390.4, 1035.9, -390.4, 0.0, -0.0, 0.0], [-390.4, -390.4, 1035.9, 0.0, 0.0, -0.0], [-0.0, 0.0, 0.0, 984.3, -0.0, 0.0], [0.0, -0.0, 0.0, -0.0, 984.3, -0.0], [0.0, 0.0, -0.0, 0.0, -0.0, 984.3]], \"warnings\": [\"One or more K, G below 2 GPa\"], \"nsites\": 8}, \"piezo\": null, \"diel\": null, \"deprecated\": false, \"full_formula\": \"N8\"}], \"valid_response\": true, \"created_at\": \"2022-04-19T17:19:29.498221\", \"version\": {\"db\": \"2020_09_08\", \"pymatgen\": \"2022.0.8\", \"rest\": \"2.0\"}, \"copyright\": \"Materials Project, 2022\"}\n",
      "Time consumed in working:  0.5005171298980713\n"
     ]
    }
   ],
   "source": [
    "import requests\n",
    "import time\n",
    "start = time.time()\n",
    "print(requests.get(url = 'https://materialsproject.org/rest/v2/materials/mp-25/vasp?API_KEY=nm6oEP9Vsq4ML2dF').text)\n",
    "end = time.time()\n",
    "print(\"Time consumed in working: \",end - start)"
   ]
  },
  {
   "cell_type": "code",
   "execution_count": null,
   "id": "f5640705",
   "metadata": {},
   "outputs": [],
   "source": []
  }
 ],
 "metadata": {
  "kernelspec": {
   "display_name": "Python 3 (ipykernel)",
   "language": "python",
   "name": "python3"
  },
  "language_info": {
   "codemirror_mode": {
    "name": "ipython",
    "version": 3
   },
   "file_extension": ".py",
   "mimetype": "text/x-python",
   "name": "python",
   "nbconvert_exporter": "python",
   "pygments_lexer": "ipython3",
   "version": "3.9.12"
  }
 },
 "nbformat": 4,
 "nbformat_minor": 5
}
