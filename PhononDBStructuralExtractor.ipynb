{
 "cells": [
  {
   "cell_type": "code",
   "execution_count": 61,
   "id": "bc862ebc",
   "metadata": {},
   "outputs": [],
   "source": [
    "import pandas as pd\n",
    "import os\n",
    "list_of_files = []\n",
    "import warnings\n",
    "from pymatgen.core import Structure\n",
    "warnings.filterwarnings(\"ignore\")\n",
    "\n",
    "directory = r'C:\\Users\\dylan\\Downloads\\phonon\\mp-406.json'\n",
    "path = r'C:\\Users\\dylan\\Downloads\\phonon'\n",
    "\n",
    "for root, dirs, files in os.walk(path):\n",
    "    for file in files:\n",
    "        list_of_files.append(os.path.join(root,file))\n",
    "materials = []\n",
    "values = []\n",
    "structures = []\n",
    "for name in list_of_files:\n",
    "    temp = name[len(r\"C:\\Users\\dylan\\Downloads\\phonon\")+4:]\n",
    "    temp = temp[:len(temp)-5]\n",
    "    materials.append(temp)\n",
    "    df = pd.read_json(name, 'records')\n",
    "    values.append(df['flags']['has_neg_fr'])\n",
    "    df = df.transpose()\n",
    "    structures.append(Structure.from_str(df['structure']['metadata'], \"cif\"))"
   ]
  },
  {
   "cell_type": "code",
   "execution_count": 77,
   "id": "632a5c98",
   "metadata": {},
   "outputs": [
    {
     "name": "stdout",
     "output_type": "stream",
     "text": [
      "Full Formula (Ba1 Te1)\n",
      "Reduced Formula: BaTe\n",
      "abc   :   4.917294   4.917294   4.917294\n",
      "angles:  60.000000  60.000000  60.000000\n",
      "Sites (2)\n",
      "  #  SP      a    b    c\n",
      "---  ----  ---  ---  ---\n",
      "  0  Ba    0    0    0\n",
      "  1  Te    0.5  0.5  0.5\n",
      "1000\n",
      "<class 'bool'>\n"
     ]
    }
   ],
   "source": [
    "print(structures[0])\n",
    "print(materials[0])\n",
    "print(type(values[0]))"
   ]
  },
  {
   "cell_type": "code",
   "execution_count": 94,
   "id": "3ab41c02",
   "metadata": {},
   "outputs": [],
   "source": [
    "import pandas as pd\n",
    "df = pd.DataFrame()\n",
    "def stringToBool(string):\n",
    "    if(string == False):\n",
    "        return 1\n",
    "    else:\n",
    "        return 0\n",
    "df['final_structure'] = structures\n",
    "from ase.db import connect\n",
    "import pandas as pd\n",
    "import os\n",
    "from ase.db import connect\n",
    "from pymatgen.core import Composition, Structure\n",
    "from pymatgen.io.ase import AseAtomsAdaptor\n",
    "from tqdm.autonotebook import tqdm\n",
    "from scipy.sparse import identity\n",
    "from scipy.sparse.linalg import eigs\n",
    "import numpy as np\n",
    "from aviary.cgcnn.utils import get_cgcnn_input\n",
    "from aviary.wren.utils import count_wyks, get_aflow_label_spglib\n",
    "from tqdm.notebook import tqdm\n",
    "tqdm.pandas()"
   ]
  },
  {
   "cell_type": "code",
   "execution_count": 95,
   "id": "9fb5f86d",
   "metadata": {},
   "outputs": [],
   "source": [
    "df['dynamic_stability_phonons'] = [stringToBool(value) for value in values]\n",
    "df['wyckoff'] = df['final_structure'].apply(get_aflow_label_spglib)\n",
    "df['composition'] = df['final_structure'].apply(lambda x: x.composition.reduced_formula)\n",
    "df['material_id'] = [\"mp-\" + material for material in materials]"
   ]
  },
  {
   "cell_type": "code",
   "execution_count": 96,
   "id": "93924c3d",
   "metadata": {},
   "outputs": [],
   "source": [
    "df = df.drop(['final_structure'], axis=1)"
   ]
  },
  {
   "cell_type": "code",
   "execution_count": 97,
   "id": "eff5a51e",
   "metadata": {},
   "outputs": [],
   "source": [
    "df.to_csv('C:\\\\Users\\\\dylan\\\\Desktop\\\\generatedData\\\\evenMorePhonons.csv', index=False)"
   ]
  },
  {
   "cell_type": "code",
   "execution_count": null,
   "id": "78f9d2c2",
   "metadata": {},
   "outputs": [],
   "source": []
  }
 ],
 "metadata": {
  "kernelspec": {
   "display_name": "Python 3 (ipykernel)",
   "language": "python",
   "name": "python3"
  },
  "language_info": {
   "codemirror_mode": {
    "name": "ipython",
    "version": 3
   },
   "file_extension": ".py",
   "mimetype": "text/x-python",
   "name": "python",
   "nbconvert_exporter": "python",
   "pygments_lexer": "ipython3",
   "version": "3.9.12"
  }
 },
 "nbformat": 4,
 "nbformat_minor": 5
}
