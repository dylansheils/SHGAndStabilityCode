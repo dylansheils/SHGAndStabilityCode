{
 "cells": [
  {
   "cell_type": "code",
   "execution_count": 16,
   "id": "6a036cf2",
   "metadata": {},
   "outputs": [
    {
     "name": "stdout",
     "output_type": "stream",
     "text": [
      "Obtaining raw io files 145k...\n",
      "Reference:https://www.nature.com/articles/s41524-020-00440-1\n",
      "Loading the zipfile...\n",
      "Loading completed.\n",
      "Warning: Point group symmetries of supercell and primitivecell are different.\n",
      "Max drift of force constants: -0.000000 (xx) -0.000000 (xx)\n"
     ]
    },
    {
     "ename": "AttributeError",
     "evalue": "'DynamicalMatrix' object has no attribute '_smallest_vectors'",
     "output_type": "error",
     "traceback": [
      "\u001b[1;31m---------------------------------------------------------------------------\u001b[0m",
      "\u001b[1;31mAttributeError\u001b[0m                            Traceback (most recent call last)",
      "Input \u001b[1;32mIn [16]\u001b[0m, in \u001b[0;36m<cell line: 2>\u001b[1;34m()\u001b[0m\n\u001b[0;32m      1\u001b[0m \u001b[38;5;28;01mimport\u001b[39;00m \u001b[38;5;21;01mjarvis\u001b[39;00m\u001b[38;5;21;01m.\u001b[39;00m\u001b[38;5;21;01mdb\u001b[39;00m\n\u001b[1;32m----> 2\u001b[0m d \u001b[38;5;241m=\u001b[39m \u001b[43mjarvis\u001b[49m\u001b[38;5;241;43m.\u001b[39;49m\u001b[43mdb\u001b[49m\u001b[38;5;241;43m.\u001b[39;49m\u001b[43mfigshare\u001b[49m\u001b[38;5;241;43m.\u001b[39;49m\u001b[43mget_wann_phonon\u001b[49m\u001b[43m(\u001b[49m\u001b[43mjid\u001b[49m\u001b[38;5;241;43m=\u001b[39;49m\u001b[38;5;124;43m'\u001b[39;49m\u001b[38;5;124;43mJVASP-1002\u001b[39;49m\u001b[38;5;124;43m'\u001b[39;49m\u001b[43m,\u001b[49m\u001b[43m \u001b[49m\u001b[43mfactor\u001b[49m\u001b[38;5;241;43m=\u001b[39;49m\u001b[38;5;241;43m15.633302\u001b[39;49m\u001b[43m)\u001b[49m \u001b[38;5;66;03m#choose a name of dataset from above\u001b[39;00m\n\u001b[0;32m      4\u001b[0m \u001b[38;5;28;01mimport\u001b[39;00m \u001b[38;5;21;01mpandas\u001b[39;00m \u001b[38;5;28;01mas\u001b[39;00m \u001b[38;5;21;01mpd\u001b[39;00m\n\u001b[0;32m      5\u001b[0m df \u001b[38;5;241m=\u001b[39m pd\u001b[38;5;241m.\u001b[39mDataFrame(d)\n",
      "File \u001b[1;32m~\\anaconda3\\envs\\roost\\lib\\site-packages\\jarvis\\db\\figshare.py:449\u001b[0m, in \u001b[0;36mget_wann_phonon\u001b[1;34m(jid, factor)\u001b[0m\n\u001b[0;32m    445\u001b[0m \u001b[38;5;66;03m# print(atoms)\u001b[39;00m\n\u001b[0;32m    446\u001b[0m \u001b[38;5;66;03m# atoms = Atoms.from_poscar(pos)\u001b[39;00m\n\u001b[0;32m    447\u001b[0m \u001b[38;5;66;03m# print(atoms)\u001b[39;00m\n\u001b[0;32m    448\u001b[0m fd, path \u001b[38;5;241m=\u001b[39m tempfile\u001b[38;5;241m.\u001b[39mmkstemp()\n\u001b[1;32m--> 449\u001b[0m \u001b[43mget_phonon_tb\u001b[49m\u001b[43m(\u001b[49m\u001b[43mfc\u001b[49m\u001b[38;5;241;43m=\u001b[39;49m\u001b[43mfc\u001b[49m\u001b[43m,\u001b[49m\u001b[43m \u001b[49m\u001b[43matoms\u001b[49m\u001b[38;5;241;43m=\u001b[39;49m\u001b[43matoms\u001b[49m\u001b[43m,\u001b[49m\u001b[43m \u001b[49m\u001b[43mout_file\u001b[49m\u001b[38;5;241;43m=\u001b[39;49m\u001b[43mpath\u001b[49m\u001b[43m,\u001b[49m\u001b[43m \u001b[49m\u001b[43mfactor\u001b[49m\u001b[38;5;241;43m=\u001b[39;49m\u001b[43mfactor\u001b[49m\u001b[43m)\u001b[49m\n\u001b[0;32m    450\u001b[0m \u001b[38;5;66;03m# cvn = Spacegroup3D(atoms).conventional_standard_structure\u001b[39;00m\n\u001b[0;32m    451\u001b[0m w \u001b[38;5;241m=\u001b[39m WannierHam(path)\n",
      "File \u001b[1;32m~\\anaconda3\\envs\\roost\\lib\\site-packages\\jarvis\\io\\phonopy\\outputs.py:133\u001b[0m, in \u001b[0;36mget_phonon_tb\u001b[1;34m(atoms, fc, out_file, distance_to_A, scell, factor, symprec, displacement_distance)\u001b[0m\n\u001b[0;32m    131\u001b[0m fcmat \u001b[38;5;241m=\u001b[39m dmat\u001b[38;5;241m.\u001b[39m_force_constants \u001b[38;5;241m*\u001b[39m factor \u001b[38;5;241m*\u001b[39m\u001b[38;5;241m*\u001b[39m \u001b[38;5;241m2\u001b[39m  \u001b[38;5;66;03m# FORCE_CONSTANTS\u001b[39;00m\n\u001b[0;32m    132\u001b[0m \u001b[38;5;66;03m# fcmat = dmat._force_constants * factor ** 2  # FORCE_CONSTANTS\u001b[39;00m\n\u001b[1;32m--> 133\u001b[0m smallest_vectors \u001b[38;5;241m=\u001b[39m \u001b[43mdmat\u001b[49m\u001b[38;5;241;43m.\u001b[39;49m\u001b[43m_smallest_vectors\u001b[49m\n\u001b[0;32m    134\u001b[0m \u001b[38;5;66;03m# mass = dmat._mass\u001b[39;00m\n\u001b[0;32m    135\u001b[0m mass \u001b[38;5;241m=\u001b[39m dmat\u001b[38;5;241m.\u001b[39m_pcell\u001b[38;5;241m.\u001b[39mget_masses()\n",
      "\u001b[1;31mAttributeError\u001b[0m: 'DynamicalMatrix' object has no attribute '_smallest_vectors'"
     ]
    }
   ],
   "source": [
    "import jarvis.db\n",
    "d = jarvis.db.figshare.get_wann_phonon(jid='JVASP-1002', factor=15.633302) #choose a name of dataset from above\n",
    "# See available keys\n",
    "print (d[0].keys())\n",
    "# Dataset size\n",
    "print(len(d))\n",
    "\n",
    "import pandas as pd\n",
    "df = pd.DataFrame(d)\n",
    "print(df)"
   ]
  },
  {
   "cell_type": "code",
   "execution_count": null,
   "id": "4c9b8d7d",
   "metadata": {},
   "outputs": [],
   "source": []
  },
  {
   "cell_type": "code",
   "execution_count": null,
   "id": "8f49f628",
   "metadata": {},
   "outputs": [],
   "source": []
  }
 ],
 "metadata": {
  "kernelspec": {
   "display_name": "Python 3 (ipykernel)",
   "language": "python",
   "name": "python3"
  },
  "language_info": {
   "codemirror_mode": {
    "name": "ipython",
    "version": 3
   },
   "file_extension": ".py",
   "mimetype": "text/x-python",
   "name": "python",
   "nbconvert_exporter": "python",
   "pygments_lexer": "ipython3",
   "version": "3.9.12"
  }
 },
 "nbformat": 4,
 "nbformat_minor": 5
}
