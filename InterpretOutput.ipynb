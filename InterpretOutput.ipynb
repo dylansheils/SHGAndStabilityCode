{
 "cells": [
  {
   "cell_type": "code",
   "execution_count": 1,
   "id": "27f9b915",
   "metadata": {},
   "outputs": [
    {
     "name": "stdout",
     "output_type": "stream",
     "text": [
      "533\n"
     ]
    }
   ],
   "source": [
    "import csv\n",
    "\n",
    "directoryWithFile = \"C:\\\\Users\\\\dylan\\\\Desktop\\\\roost-main\\\\results\\\\\";\n",
    "with open(directoryWithFile + 'roost_s-0_t-1.csv', 'r') as csv_file:\n",
    "    reader = csv.reader(csv_file)\n",
    "    entryFields = []\n",
    "    results = []\n",
    "    expected = []\n",
    "    i = 0\n",
    "    for row in reader:\n",
    "        if(i != 0):\n",
    "            entry = row[2:]\n",
    "            results[0].append(float(entry[0]))\n",
    "            expected[0].append(float(entry[1]))\n",
    "            results[1].append(float(entry[2]))\n",
    "            expected[1].append(float(entry[3]))\n",
    "            results[2].append(float(entry[4]))\n",
    "            expected[2].append(float(entry[5]))\n",
    "            results[3].append(float(entry[6]))\n",
    "            expected[3].append(float(entry[7]))\n",
    "        else:\n",
    "            entryFields = row[2:]\n",
    "            results = [[] for value in range(len(entryFields))]\n",
    "            expected = [[] for value in range(len(entryFields))]\n",
    "        i += 1\n",
    "    print(i)"
   ]
  },
  {
   "cell_type": "code",
   "execution_count": 14,
   "id": "f3c0decc",
   "metadata": {},
   "outputs": [],
   "source": [
    "def classificationThermo(heat, lowConvex):\n",
    "    if(heat > .2):\n",
    "        return 0\n",
    "    if(lowConvex + .2 < heat < .2):\n",
    "        return 1\n",
    "    if(heat < lowConvex + .2):\n",
    "        return 2"
   ]
  },
  {
   "cell_type": "code",
   "execution_count": 15,
   "id": "bdac1bd4",
   "metadata": {},
   "outputs": [
    {
     "name": "stdout",
     "output_type": "stream",
     "text": [
      "[{'energy': -14.38942371, 'energy_per_atom': -3.5973559275, 'volume': 119.394139826359, 'formation_energy_per_atom': -0.4735583236718752, 'nsites': 4, 'unit_cell_formula': {'In': 2.0, 'Se': 2.0}, 'pretty_formula': 'InSe', 'is_hubbard': False, 'elements': ['In', 'Se'], 'nelements': 2, 'e_above_hull': 0.036377234999999786, 'hubbards': {}, 'is_compatible': True, 'spacegroup': {'symprec': 0.1, 'source': 'spglib', 'symbol': 'C2/m', 'number': 12, 'point_group': '2/m', 'crystal_system': 'monoclinic', 'hall': '-C 2y'}, 'task_ids': ['mp-672921', 'mp-655946', 'mp-659122', 'mp-21405', 'mp-1421218', 'mp-1596039', 'mp-1700407'], 'band_gap': 1.0755000000000003, 'density': 5.3901462787971, 'icsd_id': None, 'icsd_ids': [32714, 71083], 'cif': \"# generated using pymatgen\\ndata_InSe\\n_symmetry_space_group_name_H-M   'P 1'\\n_cell_length_a   6.20754263\\n_cell_length_b   6.20754263\\n_cell_length_c   5.23058816\\n_cell_angle_alpha   71.42219573\\n_cell_angle_beta   71.42219573\\n_cell_angle_gamma   39.00659361\\n_symmetry_Int_Tables_number   1\\n_chemical_formula_structural   InSe\\n_chemical_formula_sum   'In2 Se2'\\n_cell_volume   119.39413983\\n_cell_formula_units_Z   2\\nloop_\\n _symmetry_equiv_pos_site_id\\n _symmetry_equiv_pos_as_xyz\\n  1  'x, y, z'\\nloop_\\n _atom_site_type_symbol\\n _atom_site_label\\n _atom_site_symmetry_multiplicity\\n _atom_site_fract_x\\n _atom_site_fract_y\\n _atom_site_fract_z\\n _atom_site_occupancy\\n  In  In0  1  0.88807100  0.88807100  0.94971700  1\\n  In  In1  1  0.11192900  0.11192900  0.05028300  1\\n  Se  Se2  1  0.66151200  0.66151200  0.32923000  1\\n  Se  Se3  1  0.33848800  0.33848800  0.67077000  1\\n\", 'total_magnetization': 0.0, 'material_id': 'mp-21405', 'oxide_type': 'None', 'tags': ['Indium selenide - II'], 'elasticity': {'G_Reuss': 3.0, 'G_VRH': 7.0, 'G_Voigt': 12.0, 'G_Voigt_Reuss_Hill': 7.0, 'K_Reuss': 3.0, 'K_VRH': 11.0, 'K_Voigt': 18.0, 'K_Voigt_Reuss_Hill': 11.0, 'elastic_anisotropy': 21.52, 'elastic_tensor': [[61.0, 5.0, 12.0, 0.0, -8.0, 0.0], [5.0, 51.0, 6.0, 0.0, -6.0, 0.0], [12.0, 6.0, 9.0, 0.0, -7.0, 0.0], [0.0, 0.0, 0.0, 5.0, 0.0, -6.0], [-8.0, -6.0, -7.0, 0.0, 10.0, 0.0], [0.0, 0.0, 0.0, -6.0, 0.0, 11.0]], 'homogeneous_poisson': 0.23, 'poisson_ratio': 0.23, 'universal_anisotropy': 21.52, 'elastic_tensor_original': [[51.12093531376154, 6.509082206360642, 2.0419803105038046, 5.379519761511398, 0.0, 0.0], [11.112913450783882, 64.13325905734803, 11.86182427806391, -3.3214982006202525, 0.0, 0.0], [2.991873174970948, 12.12274407240722, 4.474553750247603, 0.5527538556933148, 0.0, 0.0], [4.448058725061516, -0.8925211012327459, -2.4374191236279805, 10.456708542644556, 0.0, 0.0], [0.0, 0.0, 0.0, 0.0, 1.9757534971057735, 3.551075880841186], [0.0, 0.0, 0.0, 0.0, 2.9278625911134375, 14.131094679690063]], 'compliance_tensor': [[23.1, 1.1, -43.5, 0.0, -13.4, 0.0], [1.1, 21.4, -13.5, 0.0, 3.4, 0.0], [-43.5, -13.5, 388.1, 0.0, 239.5, 0.0], [-0.0, -0.0, -0.0, 637.1, -0.0, 354.4], [-13.4, 3.4, 239.5, 0.0, 263.2, 0.0], [0.0, 0.0, 0.0, 354.4, 0.0, 287.3]], 'warnings': [], 'nsites': 4}, 'piezo': None, 'diel': None, 'deprecated': False, 'full_formula': 'In2Se2'}]\n",
      "-0.4735583236718752\n",
      "0.036377234999999786\n",
      "2\n"
     ]
    }
   ],
   "source": [
    "from pymatgen.ext.matproj import MPRester\n",
    "with MPRester(\"brO6w6AHZNfzGnTWuqOM\") as m:\n",
    "    dictionary = m.get_data(\"mp-21405\")\n",
    "    print(dictionary)\n",
    "    numberOfAtoms = (dictionary[0][\"energy\"])/(dictionary[0][\"energy_per_atom\"])\n",
    "    print((dictionary[0][\"formation_energy_per_atom\"]))\n",
    "    print(dictionary[0][\"e_above_hull\"])\n",
    "    print(classificationThermo(dictionary[0][\"formation_energy_per_atom\"], dictionary[0][\"e_above_hull\"]))"
   ]
  },
  {
   "cell_type": "code",
   "execution_count": 2,
   "id": "886ea177",
   "metadata": {},
   "outputs": [],
   "source": [
    "# hform,ehull,minhessianeig,minstiffeig\n",
    "def classificationThermo(heat, lowConvex):\n",
    "    if(heat > .2):\n",
    "        return \"high\"\n",
    "    if(lowConvex + .2 < heat < .2):\n",
    "        return \"medium\"\n",
    "    if(heat < lowConvex + .2):\n",
    "        return \"low\"\n",
    "    \n",
    "def classificationPhonon(hess):\n",
    "    if(hess > -.01):\n",
    "        return \"high\"\n",
    "    else:\n",
    "        return \"low\"\n",
    "    \n",
    "def classificationStiffness(stiff):\n",
    "    if(stiff < 0):\n",
    "        return \"low\"\n",
    "    else:\n",
    "        return \"high\""
   ]
  },
  {
   "cell_type": "code",
   "execution_count": 3,
   "id": "be5afba7",
   "metadata": {},
   "outputs": [
    {
     "name": "stdout",
     "output_type": "stream",
     "text": [
      "Accuracy Thermo:  0.956766917293233\n",
      "Accuracy Phonon:  0.5131578947368421\n",
      "Accuracy Stiff:  0.806390977443609\n"
     ]
    }
   ],
   "source": [
    "successfulThermo = 0\n",
    "successfulPhonon = 0\n",
    "successfulStiff = 0\n",
    "\n",
    "for index in range(len(results[0])):\n",
    "    heatPre, lowConvexPre = results[0][index], results[1][index]\n",
    "    heatExp, lowConvexExp = expected[0][index], expected[1][index]\n",
    "    if(classificationThermo(heatPre, lowConvexPre) == classificationThermo(heatExp, lowConvexExp)):\n",
    "        successfulThermo += 1\n",
    "    minHessPre = results[2][index]\n",
    "    minHessExp = expected[2][index]\n",
    "    if(classificationPhonon(minHessPre) == classificationPhonon(minHessExp)):\n",
    "        successfulPhonon += 1\n",
    "    minStiffPre = results[3][index]\n",
    "    minStiffExp = expected[3][index]\n",
    "    if(classificationStiffness(minStiffPre) == classificationStiffness(minStiffExp)):\n",
    "        successfulStiff += 1\n",
    "\n",
    "print(\"Accuracy Thermo: \", successfulThermo/len(results[0]))\n",
    "print(\"Accuracy Phonon: \", successfulPhonon/len(results[0]))\n",
    "print(\"Accuracy Stiff: \", successfulStiff/len(results[0]))"
   ]
  },
  {
   "cell_type": "code",
   "execution_count": null,
   "id": "1619b667",
   "metadata": {},
   "outputs": [],
   "source": []
  }
 ],
 "metadata": {
  "kernelspec": {
   "display_name": "Python 3 (ipykernel)",
   "language": "python",
   "name": "python3"
  },
  "language_info": {
   "codemirror_mode": {
    "name": "ipython",
    "version": 3
   },
   "file_extension": ".py",
   "mimetype": "text/x-python",
   "name": "python",
   "nbconvert_exporter": "python",
   "pygments_lexer": "ipython3",
   "version": "3.9.12"
  }
 },
 "nbformat": 4,
 "nbformat_minor": 5
}
