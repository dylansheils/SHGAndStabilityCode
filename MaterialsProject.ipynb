{
 "cells": [
  {
   "cell_type": "code",
   "execution_count": 2,
   "id": "5c335ddb",
   "metadata": {},
   "outputs": [],
   "source": [
    "from pymatgen.ext.matproj import MPRester"
   ]
  },
  {
   "cell_type": "code",
   "execution_count": 3,
   "id": "9bb4ea6f",
   "metadata": {},
   "outputs": [
    {
     "name": "stdout",
     "output_type": "stream",
     "text": [
      "[{'energy': -66.69195172, 'energy_per_atom': -8.336493965, 'volume': 200.81013474720945, 'formation_energy_per_atom': 8.881784197001252e-16, 'nsites': 8, 'unit_cell_formula': {'N': 8.0}, 'pretty_formula': 'N2', 'is_hubbard': False, 'elements': ['N'], 'nelements': 1, 'e_above_hull': 2.6645352591003757e-15, 'hubbards': {}, 'is_compatible': True, 'spacegroup': {'symprec': 0.1, 'source': 'spglib', 'symbol': 'Pa-3', 'number': 205, 'point_group': 'm-3', 'crystal_system': 'cubic', 'hall': '-P 2ac 2ab 3'}, 'task_ids': ['mp-660823', 'mp-656877', 'mp-655310', 'mp-25', 'mp-1429258', 'mp-1593675', 'mp-1701062'], 'band_gap': 7.4563999999999995, 'density': 0.926593573513627, 'icsd_id': None, 'icsd_ids': [28179, 426956, 15472, 26482], 'cif': \"# generated using pymatgen\\ndata_N2\\n_symmetry_space_group_name_H-M   'P 1'\\n_cell_length_a   5.85592100\\n_cell_length_b   5.85592100\\n_cell_length_c   5.85592100\\n_cell_angle_alpha   90.00000000\\n_cell_angle_beta   90.00000000\\n_cell_angle_gamma   90.00000000\\n_symmetry_Int_Tables_number   1\\n_chemical_formula_structural   N2\\n_chemical_formula_sum   N8\\n_cell_volume   200.81013475\\n_cell_formula_units_Z   4\\nloop_\\n _symmetry_equiv_pos_site_id\\n _symmetry_equiv_pos_as_xyz\\n  1  'x, y, z'\\nloop_\\n _atom_site_type_symbol\\n _atom_site_label\\n _atom_site_symmetry_multiplicity\\n _atom_site_fract_x\\n _atom_site_fract_y\\n _atom_site_fract_z\\n _atom_site_occupancy\\n  N  N0  1  0.05486900  0.05486900  0.05486900  1\\n  N  N1  1  0.44513100  0.94513100  0.55486900  1\\n  N  N2  1  0.55486900  0.44513100  0.94513100  1\\n  N  N3  1  0.94513100  0.55486900  0.44513100  1\\n  N  N4  1  0.94513100  0.94513100  0.94513100  1\\n  N  N5  1  0.55486900  0.05486900  0.44513100  1\\n  N  N6  1  0.44513100  0.55486900  0.05486900  1\\n  N  N7  1  0.05486900  0.44513100  0.55486900  1\\n\", 'total_magnetization': 0.0, 'material_id': 'mp-25', 'oxide_type': 'None', 'tags': ['Nitrogen - alpha', 'Nitrogen', 'Dinitrogen - alpha'], 'elasticity': {'G_Reuss': 1.0, 'G_VRH': 1.0, 'G_Voigt': 1.0, 'G_Voigt_Reuss_Hill': 1.0, 'K_Reuss': 1.0, 'K_VRH': 1.0, 'K_Voigt': 1.0, 'K_Voigt_Reuss_Hill': 1.0, 'elastic_anisotropy': 1.49, 'elastic_tensor': [[2.0, 1.0, 1.0, 0.0, 0.0, 0.0], [1.0, 2.0, 1.0, 0.0, 0.0, 0.0], [1.0, 1.0, 2.0, 0.0, 0.0, 0.0], [0.0, 0.0, 0.0, 1.0, 0.0, 0.0], [0.0, 0.0, 0.0, 0.0, 1.0, 0.0], [0.0, 0.0, 0.0, 0.0, 0.0, 1.0]], 'homogeneous_poisson': 0.28, 'poisson_ratio': 0.28, 'universal_anisotropy': 1.49, 'elastic_tensor_original': [[1.9097246927986018, 1.3000320079066316, 1.300154243488926, 0.0, 0.0, 0.0], [0.9580180560354868, 1.7047936974000661, 0.9578679443997702, 0.0, 0.0, 0.0], [0.9623875303896177, 0.9625347532547257, 1.709291566241514, 0.0, 0.0, 0.0], [2.2200017814395922e-06, 2.356668557846506e-06, 3.0466691113889286e-06, 1.0301313999245536, 0.0, 0.0], [5.233337534118979e-07, 3.2666692886291e-07, 3.0000024074694093e-07, 0.0, 1.0078750553990978, 0.0], [-8.100006499728551e-07, -5.833338013711158e-07, -8.233339939759828e-07, 0.0, 0.0, 1.0099612270730702]], 'compliance_tensor': [[1035.9, -390.4, -390.4, -0.0, 0.0, 0.0], [-390.4, 1035.9, -390.4, 0.0, -0.0, 0.0], [-390.4, -390.4, 1035.9, 0.0, 0.0, -0.0], [-0.0, 0.0, 0.0, 984.3, -0.0, 0.0], [0.0, -0.0, 0.0, -0.0, 984.3, -0.0], [0.0, 0.0, -0.0, 0.0, -0.0, 984.3]], 'warnings': ['One or more K, G below 2 GPa'], 'nsites': 8}, 'piezo': None, 'diel': None, 'deprecated': False, 'full_formula': 'N8'}]\n"
     ]
    },
    {
     "name": "stderr",
     "output_type": "stream",
     "text": [
      "C:\\Users\\dylan\\anaconda3\\envs\\roost\\lib\\site-packages\\pymatgen\\phonon\\bandstructure.py:422: VisibleDeprecationWarning: Creating an ndarray from ragged nested sequences (which is a list-or-tuple of lists-or-tuples-or ndarrays with different lengths or shapes) is deprecated. If you meant to do this, you must specify 'dtype=object' when creating the ndarray.\n",
      "  self.nac_frequencies = np.array(naf)\n",
      "C:\\Users\\dylan\\anaconda3\\envs\\roost\\lib\\site-packages\\pymatgen\\phonon\\bandstructure.py:423: VisibleDeprecationWarning: Creating an ndarray from ragged nested sequences (which is a list-or-tuple of lists-or-tuples-or ndarrays with different lengths or shapes) is deprecated. If you meant to do this, you must specify 'dtype=object' when creating the ndarray.\n",
      "  self.nac_eigendisplacements = np.array(nac_eigendisplacements)\n"
     ]
    },
    {
     "name": "stdout",
     "output_type": "stream",
     "text": [
      "False\n"
     ]
    }
   ],
   "source": [
    "rareEarthMetals = ['La', 'Ce', 'Pr', 'Nd', 'Pm', 'Sm', 'Eu', 'Gd', 'Tb', 'Dy', 'Ho', 'Er', 'Tm', 'Yb', 'Lu', 'Sc', 'Y']\n",
    "with MPRester(\"aU621ICtBbnsLKk9\") as mpr:\n",
    "    print(mpr.get_data(\"mp-25\"))\n",
    "    print(mpr.get_phonon_bandstructure_by_material_id(\"mp-661\").has_imaginary_freq())\n",
    "    allData = []\n",
    "    materialIDsArrays = [mpr.get_materials_ids(rareEarthMetals[i]) for i in range(len(rareEarthMetals))]\n",
    "    materialIDs = []\n",
    "    for entry in materialIDsArrays:\n",
    "        for datum in entry:\n",
    "            materialIDs.append(datum)\n",
    "    for entry in materialIDs:\n",
    "        if(mpr.get_data(entry)[0][\"total_magnetization\"] > 0):\n",
    "            allData.append(mpr.get_data(entry)[0])"
   ]
  },
  {
   "cell_type": "code",
   "execution_count": 25,
   "id": "74628c43",
   "metadata": {},
   "outputs": [
    {
     "name": "stdout",
     "output_type": "stream",
     "text": [
      "87\n"
     ]
    }
   ],
   "source": [
    "print(len(allData))"
   ]
  },
  {
   "cell_type": "code",
   "execution_count": 26,
   "id": "87ea5f57",
   "metadata": {},
   "outputs": [],
   "source": [
    "import json\n",
    "with open('outputfile', 'w') as fout:\n",
    "    json.dump(allData, fout)"
   ]
  },
  {
   "cell_type": "code",
   "execution_count": null,
   "id": "9614707d",
   "metadata": {},
   "outputs": [],
   "source": []
  }
 ],
 "metadata": {
  "kernelspec": {
   "display_name": "Python 3 (ipykernel)",
   "language": "python",
   "name": "python3"
  },
  "language_info": {
   "codemirror_mode": {
    "name": "ipython",
    "version": 3
   },
   "file_extension": ".py",
   "mimetype": "text/x-python",
   "name": "python",
   "nbconvert_exporter": "python",
   "pygments_lexer": "ipython3",
   "version": "3.8.5"
  }
 },
 "nbformat": 4,
 "nbformat_minor": 5
}
