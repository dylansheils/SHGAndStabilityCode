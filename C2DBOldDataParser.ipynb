{
 "cells": [
  {
   "cell_type": "code",
   "execution_count": null,
   "id": "a413dfd0",
   "metadata": {},
   "outputs": [],
   "source": [
    "import pandas as pd\n",
    "df = pd.read_csv(r'C:\\Users\\dylan\\Desktop\\aviary-github\\aviary\\phononTesting.csv')"
   ]
  },
  {
   "cell_type": "code",
   "execution_count": 8,
   "id": "45359505",
   "metadata": {},
   "outputs": [
    {
     "name": "stdout",
     "output_type": "stream",
     "text": [
      "      Unnamed: 0.2  Unnamed: 0.1  Unnamed: 0  index  \\\n",
      "0                0             0           0     10   \n",
      "1                1             1           1     19   \n",
      "2                2             2           2     20   \n",
      "3                3             3           3     48   \n",
      "4                4             5           6     61   \n",
      "...            ...           ...         ...    ...   \n",
      "3471          3484          3773        4338  44012   \n",
      "3472          3485          3774        4339  44019   \n",
      "3473          3486          3775        4340  44022   \n",
      "3474          3487          3776        4341  44026   \n",
      "3475          3488          3777        4342  44032   \n",
      "\n",
      "                           material_id  composition  \\\n",
      "0                     ENUMERATION30019       NaV2O5   \n",
      "1                     ENUMERATION30038      Gd3RuO7   \n",
      "2                     ENUMERATION30040    Cs2NaAlF6   \n",
      "3                     ENUMERATION30111  SmH18(IO3)3   \n",
      "4                     ENUMERATION30140   Ba2PrCu3O7   \n",
      "...                                ...          ...   \n",
      "3471  5dd357abda69703516aa5c4bfc1644b3         ZrSI   \n",
      "3472  5e9be3ebdb1fbdce5867d5cea21aeb74         ZrSe   \n",
      "3473  64503af4f5fa11c33dd906254cd54585         ZrSe   \n",
      "3474  456d78bae8e966036ca961fb97515930        ZrSe3   \n",
      "3475  65eed8f1950ef9e489044485b8b800d2        ZrSeS   \n",
      "\n",
      "                                       wyckoff  dynamic_stability_phonons  \\\n",
      "0      AB5C2_oF256_42_4a2b_10c2d4e_4c2e:Na-O-V                          1   \n",
      "1               A3B7C_oC44_63_ag_cgh_b:Gd-O-Ru                          1   \n",
      "2        AB2C6D_hR60_166_ab_2c_2h_c:Al-Cs-F-Na                          1   \n",
      "3     A18B3C9D_oP62_59_3e3g_be_aefg_a:H-I-O-Sm                          1   \n",
      "4       A2B3C7D_oP13_47_k_cj_aijl_f:Ba-Cu-O-Pr                          1   \n",
      "...                                        ...                        ...   \n",
      "3471                   ABC_oP6_59_a_a_b:I-S-Zr                          1   \n",
      "3472                      AB_hP4_164_d_c:Se-Zr                          1   \n",
      "3473                      AB_hP4_164_d_d:Se-Zr                          1   \n",
      "3474                     A3B_oP8_59_ae_b:Se-Zr                          0   \n",
      "3475                 ABC_hP3_156_a_b_c:S-Se-Zr                          1   \n",
      "\n",
      "         split  \n",
      "0     0.287696  \n",
      "1    -1.170762  \n",
      "2    -0.635460  \n",
      "3     1.562860  \n",
      "4    -0.940744  \n",
      "...        ...  \n",
      "3471 -0.411993  \n",
      "3472  0.757415  \n",
      "3473  0.197955  \n",
      "3474 -0.924810  \n",
      "3475 -0.969645  \n",
      "\n",
      "[3476 rows x 9 columns]\n"
     ]
    }
   ],
   "source": [
    "import pandas as pd\n",
    "df = pd.read_csv(r'C:\\Users\\dylan\\Desktop\\aviary-github\\aviary\\phononTesting.csv')\n",
    "df = df[ df[\"composition\"].str.contains(\"M\")==False ]\n",
    "df = df[ df[\"composition\"].str.contains(\"M2\")==False ]\n",
    "df = df[ df[\"composition\"].str.contains(\"M3\")==False ]\n",
    "df = df[ df[\"composition\"].str.contains(\"M4\")==False ]\n",
    "df = df[ df[\"composition\"].str.contains(\"M5\")==False ]\n",
    "df = df[ df[\"composition\"].str.contains(\"M6\")==False ]\n",
    "df = df[ df[\"composition\"].str.contains(\"M7\")==False ]\n",
    "df = df[ df[\"composition\"].str.contains(\"M8\")==False ]\n",
    "df = df[ df[\"composition\"].str.contains(\"M9\")==False ]\n",
    "print(df)\n",
    "df.to_csv(r'C:\\Users\\dylan\\Desktop\\aviary-github\\aviary\\phononTesting.csv')"
   ]
  },
  {
   "cell_type": "code",
   "execution_count": 14,
   "id": "11cf4b35",
   "metadata": {},
   "outputs": [],
   "source": [
    "import random\n",
    "import numpy\n",
    "directory = r'C:\\Users\\dylan\\Desktop\\aviary-github\\aviary'\n",
    "lines = set()\n",
    "with open(directory + \"\\phononData.csv\") as fr:\n",
    "    with open(directory + \"\\predictPropertiesTraining.csv\", \"w\") as f1:\n",
    "        with open(directory + \"\\predictPropertiesTest.csv\", \"w\") as f2:\n",
    "            for line in fr:\n",
    "                if(line not in lines):\n",
    "                    f = numpy.random.choice([f1, f2], p=[0.9,.1])\n",
    "                    f.write(line)\n",
    "                    lines.add(line)"
   ]
  },
  {
   "cell_type": "code",
   "execution_count": 1,
   "id": "2de59ec6",
   "metadata": {},
   "outputs": [],
   "source": [
    "from scipy.sparse import identity\n",
    "from scipy.sparse.linalg import eigs\n",
    "def findMinEigenvalue(c11, c12, c13, c21, c22, c23, c31, c32, c33):\n",
    "    matrix = [[c11, c12, c13],[c21, c22, c23],[c31, c32, c33]]\n",
    "    matrix = np.array(matrix).reshape((3,3))\n",
    "    return min(eigs(matrix, 3, sigma=0)[0].real)\n",
    "def classificationStiffness(stiff):\n",
    "    if(stiff < 0):\n",
    "        return 0\n",
    "    else:\n",
    "        return 1\n",
    "    \n",
    "structs.append(structure)\n",
    "mat = dictionary[0][\"elasticity\"][\"elastic_tensor_original\"]\n",
    "stiffnessClassification = classificationStiffness(findMinEigenvalue(mat[0][0], mat[0][1], mat[0][2], mat[1][0], mat[1][1], mat[1][2], mat[2][0], mat[2][1], mat[2][2]))\n",
    "elasticityClassifications.append(stiffnessClassification)\n",
    "materialsStiffnessAvailableFor.append(index)"
   ]
  },
  {
   "cell_type": "code",
   "execution_count": null,
   "id": "95b104e6",
   "metadata": {},
   "outputs": [],
   "source": [
    "structs.append(structure)\n",
    "mat = dictionary[0][\"elasticity\"][\"elastic_tensor_original\"]\n",
    "stiffnessClassification = classificationStiffness(findMinEigenvalue(mat[0][0], mat[0][1], mat[0][2], mat[1][0], mat[1][1], mat[1][2], mat[2][0], mat[2][1], mat[2][2]))\n",
    "elasticityClassifications.append(stiffnessClassification)\n",
    "materialsStiffnessAvailableFor.append(index)"
   ]
  }
 ],
 "metadata": {
  "kernelspec": {
   "display_name": "Python 3 (ipykernel)",
   "language": "python",
   "name": "python3"
  },
  "language_info": {
   "codemirror_mode": {
    "name": "ipython",
    "version": 3
   },
   "file_extension": ".py",
   "mimetype": "text/x-python",
   "name": "python",
   "nbconvert_exporter": "python",
   "pygments_lexer": "ipython3",
   "version": "3.9.12"
  }
 },
 "nbformat": 4,
 "nbformat_minor": 5
}
