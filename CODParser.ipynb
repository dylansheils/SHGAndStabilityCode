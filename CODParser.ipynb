{
 "cells": [
  {
   "cell_type": "code",
   "execution_count": 5,
   "id": "cf4a26bf",
   "metadata": {},
   "outputs": [],
   "source": [
    "import os\n",
    "path = r'C:\\Users\\dylan\\Desktop\\cod\\cod\\cif'\n",
    "list_of_files = []\n",
    "for root, dirs, files in os.walk(path):\n",
    "    for file in files:\n",
    "        list_of_files.append(os.path.join(root,file))"
   ]
  },
  {
   "cell_type": "code",
   "execution_count": 6,
   "id": "ac8025a3",
   "metadata": {},
   "outputs": [
    {
     "name": "stdout",
     "output_type": "stream",
     "text": [
      "149963\n"
     ]
    }
   ],
   "source": [
    "print(len(list_of_files))\n",
    "import warnings\n",
    "from pymatgen.core import Structure\n",
    "warnings.filterwarnings(\"ignore\")"
   ]
  },
  {
   "cell_type": "code",
   "execution_count": 7,
   "id": "80b7432c",
   "metadata": {},
   "outputs": [
    {
     "name": "stdout",
     "output_type": "stream",
     "text": [
      "C:\\Users\\dylan\\Desktop\\cod\\cod\\cif\\1\\00\\00\\1000000.cif\n"
     ]
    }
   ],
   "source": [
    "print(list_of_files[0])"
   ]
  },
  {
   "cell_type": "code",
   "execution_count": 8,
   "id": "90d21ef0",
   "metadata": {
    "scrolled": false
   },
   "outputs": [
    {
     "name": "stdout",
     "output_type": "stream",
     "text": [
      "Progress: % 33.67497316004614\n",
      "Progress: % 34.00838873588818\n",
      "Progress: % 34.34180431173023\n",
      "Progress: % 34.67521988757227\n",
      "Progress: % 35.008635463414315\n",
      "Progress: % 35.34205103925635\n",
      "Progress: % 35.67546661509839\n",
      "Progress: % 36.00888219094043\n",
      "Progress: % 36.34229776678247\n",
      "Progress: % 36.67571334262452\n",
      "Progress: % 37.00912891846656\n",
      "Progress: % 37.34254449430859\n",
      "Progress: % 37.67596007015064\n",
      "Progress: % 38.00937564599268\n",
      "Progress: % 38.34279122183472\n",
      "Progress: % 38.67620679767676\n",
      "Progress: % 39.0096223735188\n",
      "Progress: % 39.34303794936084\n",
      "Progress: % 39.67645352520288\n",
      "Progress: % 40.00986910104493\n"
     ]
    }
   ],
   "source": [
    "import pymatgen\n",
    "from pymatgen.core import Structure, Element\n",
    "\n",
    "structures = []\n",
    "composition = []\n",
    "materialID = []\n",
    "index = 50000\n",
    "offset = index\n",
    "default = 1\n",
    "stability = []\n",
    "end = False\n",
    "for file in list_of_files:\n",
    "    if(offset > 0):\n",
    "        offset -= 1\n",
    "    else:\n",
    "        if(\"cif\" in file and end == False):\n",
    "            try:\n",
    "                structure = Structure.from_file(file)\n",
    "                mystring = (str(structure))\n",
    "                for item in mystring.split(\"\\n\"):\n",
    "                    if \"Reduced\" in item:\n",
    "                        composition.append(item.strip()[len(\"Reduced Formula: \"):])\n",
    "                structures.append(structure)\n",
    "                stability.append(default)\n",
    "                materialID.append(\"ENUMERATION\" + str(index))\n",
    "                index += 1\n",
    "                if(index % 500 == 0):\n",
    "                    print(\"Progress: %\", index/len(list_of_files) * 100)\n",
    "                if(index % 60000 == 0):\n",
    "                    end = True\n",
    "                    break\n",
    "            except:\n",
    "                pass"
   ]
  },
  {
   "cell_type": "code",
   "execution_count": 9,
   "id": "4ca704b9",
   "metadata": {},
   "outputs": [],
   "source": [
    "import pandas as pd\n",
    "df = pd.DataFrame()\n",
    "df['material_id'] = materialID\n",
    "df['final_structure'] = structures"
   ]
  },
  {
   "cell_type": "code",
   "execution_count": 10,
   "id": "752c4edd",
   "metadata": {},
   "outputs": [],
   "source": [
    "from ase.db import connect\n",
    "import pandas as pd\n",
    "import os\n",
    "from ase.db import connect\n",
    "from pymatgen.core import Composition, Structure\n",
    "from pymatgen.io.ase import AseAtomsAdaptor\n",
    "from tqdm.autonotebook import tqdm\n",
    "from scipy.sparse import identity\n",
    "from scipy.sparse.linalg import eigs\n",
    "import numpy as np\n",
    "from aviary.cgcnn.utils import get_cgcnn_input\n",
    "from aviary.wren.utils import count_wyks, get_aflow_label_spglib\n",
    "from tqdm.notebook import tqdm\n",
    "tqdm.pandas()"
   ]
  },
  {
   "cell_type": "code",
   "execution_count": null,
   "id": "e6be5f57",
   "metadata": {},
   "outputs": [],
   "source": []
  },
  {
   "cell_type": "code",
   "execution_count": 11,
   "id": "63282d62",
   "metadata": {
    "scrolled": false
   },
   "outputs": [
    {
     "data": {
      "application/vnd.jupyter.widget-view+json": {
       "model_id": "dbaa85cddd7841e2ace021638162164b",
       "version_major": 2,
       "version_minor": 0
      },
      "text/plain": [
       "  0%|          | 0/10000 [00:00<?, ?it/s]"
      ]
     },
     "metadata": {},
     "output_type": "display_data"
    }
   ],
   "source": [
    "df['composition'] = df['final_structure'].apply(lambda x: x.composition.reduced_formula)\n",
    "def newFunc(inputVal):\n",
    "    try:\n",
    "        return get_aflow_label_spglib(inputVal)\n",
    "    except:\n",
    "        return \"NULL\"\n",
    "    \n",
    "df['wyckoff'] = df['final_structure'].progress_apply(newFunc)\n",
    "df['dynamic_stability_phonons'] = stability\n",
    "df = df.drop(['final_structure'], axis=1)"
   ]
  },
  {
   "cell_type": "code",
   "execution_count": 12,
   "id": "2bafb713",
   "metadata": {},
   "outputs": [
    {
     "name": "stdout",
     "output_type": "stream",
     "text": [
      "           material_id           composition  \\\n",
      "0     ENUMERATION50000          H39C41BrN2O3   \n",
      "1     ENUMERATION50001             H30C17NO5   \n",
      "2     ENUMERATION50002               H32C28O   \n",
      "3     ENUMERATION50003        SiH36C32SBrNO6   \n",
      "4     ENUMERATION50004              H26C18O5   \n",
      "...                ...                   ...   \n",
      "9995  ENUMERATION59995  H138.24C118.56O41.44   \n",
      "9996  ENUMERATION59996             H19C24N3O   \n",
      "9997  ENUMERATION59997               H9C9N3O   \n",
      "9998  ENUMERATION59998            H11C23N3O2   \n",
      "9999  ENUMERATION59999             H22C29NO2   \n",
      "\n",
      "                                                wyckoff  \\\n",
      "0        AB41C39D2E3_mP172_4_a_41a_39a_2a_3a:Br-C-H-N-O   \n",
      "1               A17B30CD5_mP212_13_17g_30g_g_5g:C-H-N-O   \n",
      "2                       A28B32C_mP122_4_28a_32a_a:C-H-O   \n",
      "3     AB32C36DE6FG_mP156_4_a_32a_36a_a_6a_a_a:Br-C-H...   \n",
      "4                    A18B26C5_mP196_14_18e_26e_5e:C-H-O   \n",
      "...                                                 ...   \n",
      "9995                                               NULL   \n",
      "9996            A24B19C3D_aP188_2_48i_38i_6i_2i:C-H-N-O   \n",
      "9997                 A9B9C3D_mP88_14_9e_9e_3e_e:C-H-N-O   \n",
      "9998                                               NULL   \n",
      "9999                                               NULL   \n",
      "\n",
      "      dynamic_stability_phonons  \n",
      "0                             1  \n",
      "1                             1  \n",
      "2                             1  \n",
      "3                             1  \n",
      "4                             1  \n",
      "...                         ...  \n",
      "9995                          1  \n",
      "9996                          1  \n",
      "9997                          1  \n",
      "9998                          1  \n",
      "9999                          1  \n",
      "\n",
      "[10000 rows x 4 columns]\n",
      "           material_id      composition  \\\n",
      "0     ENUMERATION50000     H39C41BrN2O3   \n",
      "1     ENUMERATION50001        H30C17NO5   \n",
      "2     ENUMERATION50002          H32C28O   \n",
      "3     ENUMERATION50003   SiH36C32SBrNO6   \n",
      "4     ENUMERATION50004         H26C18O5   \n",
      "...                ...              ...   \n",
      "9992  ENUMERATION59992  SiH35C24Br(NO)2   \n",
      "9993  ENUMERATION59993       SiH35C27NO   \n",
      "9994  ENUMERATION59994     SiH30C21BrNO   \n",
      "9996  ENUMERATION59996        H19C24N3O   \n",
      "9997  ENUMERATION59997          H9C9N3O   \n",
      "\n",
      "                                                wyckoff  \\\n",
      "0        AB41C39D2E3_mP172_4_a_41a_39a_2a_3a:Br-C-H-N-O   \n",
      "1               A17B30CD5_mP212_13_17g_30g_g_5g:C-H-N-O   \n",
      "2                       A28B32C_mP122_4_28a_32a_a:C-H-O   \n",
      "3     AB32C36DE6FG_mP156_4_a_32a_36a_a_6a_a_a:Br-C-H...   \n",
      "4                    A18B26C5_mP196_14_18e_26e_5e:C-H-O   \n",
      "...                                                 ...   \n",
      "9992  AB24C35D2E2F_aP260_2_2i_48i_70i_4i_4i_2i:Br-C-...   \n",
      "9993        A27B35CDE_mP260_14_27e_35e_e_e_e:C-H-N-O-Si   \n",
      "9994  AB21C30DEF_mP220_14_e_21e_30e_e_e_e:Br-C-H-N-O-Si   \n",
      "9996            A24B19C3D_aP188_2_48i_38i_6i_2i:C-H-N-O   \n",
      "9997                 A9B9C3D_mP88_14_9e_9e_3e_e:C-H-N-O   \n",
      "\n",
      "      dynamic_stability_phonons  \n",
      "0                             1  \n",
      "1                             1  \n",
      "2                             1  \n",
      "3                             1  \n",
      "4                             1  \n",
      "...                         ...  \n",
      "9992                          1  \n",
      "9993                          1  \n",
      "9994                          1  \n",
      "9996                          1  \n",
      "9997                          1  \n",
      "\n",
      "[6991 rows x 4 columns]\n"
     ]
    }
   ],
   "source": [
    "print(df)\n",
    "df = df[df['wyckoff'] != \"NULL\"]\n",
    "print(df)"
   ]
  },
  {
   "cell_type": "code",
   "execution_count": 13,
   "id": "910c7c12",
   "metadata": {},
   "outputs": [],
   "source": [
    "df.to_csv('C:\\\\Users\\\\dylan\\\\Desktop\\\\generatedData\\\\evenMoreMorePhonons630.csv', index=False)"
   ]
  },
  {
   "cell_type": "code",
   "execution_count": null,
   "id": "5e920971",
   "metadata": {},
   "outputs": [],
   "source": []
  }
 ],
 "metadata": {
  "kernelspec": {
   "display_name": "Python 3 (ipykernel)",
   "language": "python",
   "name": "python3"
  },
  "language_info": {
   "codemirror_mode": {
    "name": "ipython",
    "version": 3
   },
   "file_extension": ".py",
   "mimetype": "text/x-python",
   "name": "python",
   "nbconvert_exporter": "python",
   "pygments_lexer": "ipython3",
   "version": "3.9.12"
  }
 },
 "nbformat": 4,
 "nbformat_minor": 5
}
