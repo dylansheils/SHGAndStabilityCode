{
 "cells": [
  {
   "cell_type": "code",
   "execution_count": 1,
   "metadata": {},
   "outputs": [],
   "source": [
    "import pandas as pd\n",
    "import numpy"
   ]
  },
  {
   "cell_type": "code",
   "execution_count": null,
   "metadata": {},
   "outputs": [],
   "source": []
  },
  {
   "cell_type": "code",
   "execution_count": 3,
   "metadata": {
    "scrolled": false
   },
   "outputs": [
    {
     "name": "stdout",
     "output_type": "stream",
     "text": [
      "Accuracy (Straight Agreement):  0.0\n",
      "Thermo Agreement: 0.7328458942632171\n",
      "Stiffness Agreement: 0.9077615298087739\n",
      "1778\n",
      "True Positive:  0.28346456692913385\n",
      "False Positive:  0.17547806524184478\n",
      "True Negative:  0.515185601799775\n",
      "False Negative:  0.025871766029246346\n",
      "Accuracy:  0.7986501687289089\n",
      "Total Classified:  1778  Total Viewed:  1778\n"
     ]
    },
    {
     "data": {
      "image/png": "[encoded data removed]",
      "text/plain": [
       "<Figure size 432x288 with 2 Axes>"
      ]
     },
     "metadata": {
      "needs_background": "light"
     },
     "output_type": "display_data"
    }
   ],
   "source": [
    "tp = 0\n",
    "tn = 0\n",
    "fp = 0\n",
    "fn = 0\n",
    "agree = 0\n",
    "totalDiff = 0\n",
    "thermoAgree = 0\n",
    "stiffnessAgree = 0\n",
    "\n",
    "import math\n",
    "import numpy as np\n",
    "import seaborn as sns\n",
    "import matplotlib.pyplot as plt\n",
    "\n",
    "def classifyThermoStability(value):\n",
    "    if(value < 0.2):\n",
    "        return 0 # stable\n",
    "    else:\n",
    "        return 1 # unstable\n",
    "\n",
    "def classifyResult(value):\n",
    "    if(value < 0.2):\n",
    "        return 1 # unstable\n",
    "    return 0 # stable\n",
    "\n",
    "def work(df):\n",
    "    global fn\n",
    "    global tn\n",
    "    global fp\n",
    "    global tp\n",
    "    global agree\n",
    "    global totalDiff\n",
    "    global thermoAgree\n",
    "    global stiffnessAgree\n",
    "    for i in range(len(df['material_id'])):\n",
    "        stiffnessAgreement = classifyResult(df['stiffness_pre-logits_c0_n0'][i]) == df['stiffness_target'][i]\n",
    "        thermoAgreement = classifyThermoStability(df['thermo_pred_n0'][i]) == classifyThermoStability(df['thermo_target'][i])\n",
    "        if thermoAgreement:\n",
    "            thermoAgree += 1\n",
    "        if stiffnessAgreement:\n",
    "            stiffnessAgree += 1\n",
    "        # Model agrees with both predictions of stability and material is stable, true positive\n",
    "        if(stiffnessAgreement and thermoAgreement and classifyThermoStability(df['thermo_target'][i]) == 0 and df['stiffness_target'][i] == 0):\n",
    "            tp += 1\n",
    "        else:\n",
    "            # Model agrees with both predictions of stability and material is unstable, true negative (case #1)\n",
    "            if(stiffnessAgreement and thermoAgreement and (classifyThermoStability(df['thermo_target'][i]) == 1 or df['stiffness_target'][i] == 1)):\n",
    "                tn += 1\n",
    "            # Model agrees with one of the predictions of stability and material is unstable, true negative (case #2)\n",
    "            else:\n",
    "                if((stiffnessAgreement or thermoAgreement) and (classifyThermoStability(df['thermo_target'][i]) == 1 or df['stiffness_target'][i] == 1)):\n",
    "                    tn += 1\n",
    "                # Model disagrees with both prediction (says stable) and material is unstable \n",
    "                else:\n",
    "                    if(not (stiffnessAgreement and thermoAgreement) and ((classifyThermoStability(df['thermo_target'][i]) == 1 or df['stiffness_target'][i] == 1))):\n",
    "                        fn += 1\n",
    "                    else:\n",
    "                        fp += 1\n",
    "        totalDiff += 1\n",
    "            \n",
    "                \n",
    "df = pd.read_csv(r'C:\\\\Users\\\\Matthew\\\\Desktop\\\\aviary-github\\\\aviary\\\\results\\\\1.csv')\n",
    "work(df)\n",
    "for i in range(2, 21):\n",
    "    tmp = \"C:\\\\Users\\\\Matthew\\\\Desktop\\\\aviary-github\\\\aviary\\\\results\\\\\" + str(i) + \".csv\"\n",
    "    df2 = pd.read_csv(tmp)\n",
    "    work(df2)\n",
    "            \n",
    "total = tp + fp + tn + fn\n",
    "# Intrinsic error: https://pubs.acs.org/doi/10.1021/acscatal.1c05333, .10-.16 eV\n",
    "print(\"Accuracy (Straight Agreement): \", agree/totalDiff)\n",
    "print(\"Thermo Agreement: 0.7328458942632171\")\n",
    "print(\"Stiffness Agreement: 0.9077615298087739\")\n",
    "print(total)\n",
    "print(\"True Positive: \", tp/total)\n",
    "print(\"False Positive: \", fp/total)\n",
    "print(\"True Negative: \", tn/total)\n",
    "print(\"False Negative: \", fn/total)\n",
    "print(\"Accuracy: \", (tp + tn)/total)\n",
    "df_cm = pd.DataFrame()\n",
    "df_cm['True Postivies'] = tp\n",
    "df_cm['True Negatives'] = tn\n",
    "df_cm['False Positives'] = fp\n",
    "df_cm['False Negatives'] = fn\n",
    "print(\"Total Classified: \", total, \" Total Viewed: \", totalDiff)\n",
    "\n",
    "temp = np.array([[tn, fn], [fp, tp]])\n",
    "ax = sns.heatmap(temp, annot=True, cmap='Greens', fmt='g')\n",
    "ax.set_title('Confusion Matrix for Stability\\n\\n');\n",
    "ax.set_xlabel('\\nPredicted Values')\n",
    "ax.set_ylabel('Actual Values ');\n",
    "\n",
    "## Ticket labels - List must be in alphabetical order\n",
    "ax.xaxis.set_ticklabels(['False','True'])\n",
    "ax.yaxis.set_ticklabels(['False','True'])\n",
    "\n",
    "## Display the visualization of the Confusion Matrix.\n",
    "plt.show()"
   ]
  },
  {
   "cell_type": "code",
   "execution_count": 56,
   "metadata": {},
   "outputs": [],
   "source": [
    "df = pd.read_csv(r'C:\\Users\\Dylan\\Downloads\\thermoStabilityTest.csv')\n",
    "averageProbability = 0\n",
    "numOnes = 0\n",
    "count = 0\n",
    "for entry in df['thermo']:\n",
    "    if(classifyThermoStability(entry) == 2):\n",
    "        numOnes += 1\n",
    "    count += 1\n",
    "\n",
    "minProb = 100\n",
    "maxProb = 0\n",
    "for i in range(100):\n",
    "    tempCount = 0\n",
    "    success = 0\n",
    "    for entry in df['thermo']:\n",
    "        if(classifyThermoStability(entry) == numpy.random.choice(a = [0, 2], p=[1 - numOnes/count, numOnes/count])):\n",
    "            success += 1\n",
    "        tempCount += 1\n",
    "    if(100* success/tempCount > maxProb):\n",
    "        maxProb = 100* success/tempCount\n",
    "    if(100* success/tempCount < minProb):\n",
    "        minProb = 100* success/tempCount\n",
    "    averageProbability += (100* success/tempCount) / 100"
   ]
  },
  {
   "cell_type": "code",
   "execution_count": 57,
   "metadata": {},
   "outputs": [
    {
     "name": "stdout",
     "output_type": "stream",
     "text": [
      "Average Random Guessing (based on distribution): 51.43544453186471 %\n",
      "Minimum Probabilitiy: 50.66876475216365 %\n",
      "Maximum Probabilitiy: 52.26986624704957 %\n"
     ]
    }
   ],
   "source": [
    "print(\"Average Random Guessing (based on distribution):\", averageProbability, \"%\")\n",
    "print(\"Minimum Probabilitiy:\", minProb, \"%\")\n",
    "print(\"Maximum Probabilitiy:\", maxProb, \"%\")"
   ]
  },
  {
   "cell_type": "code",
   "execution_count": null,
   "metadata": {},
   "outputs": [],
   "source": []
  },
  {
   "cell_type": "code",
   "execution_count": null,
   "metadata": {},
   "outputs": [],
   "source": []
  }
 ],
 "metadata": {
  "kernelspec": {
   "display_name": "Python 3 (ipykernel)",
   "language": "python",
   "name": "python3"
  },
  "language_info": {
   "codemirror_mode": {
    "name": "ipython",
    "version": 3
   },
   "file_extension": ".py",
   "mimetype": "text/x-python",
   "name": "python",
   "nbconvert_exporter": "python",
   "pygments_lexer": "ipython3",
   "version": "3.8.5"
  }
 },
 "nbformat": 4,
 "nbformat_minor": 4
}
