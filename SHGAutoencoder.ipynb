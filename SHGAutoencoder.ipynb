{
 "cells": [
  {
   "cell_type": "code",
   "execution_count": null,
   "id": "63f97fe8",
   "metadata": {},
   "outputs": [],
   "source": [
    "print(\"\\nStability Clasification\")\n",
    "name = 'stability'\n",
    "file_path = path_models + name + '_model.sav'\n",
    "prototypes, formulas, features, x_stab = preprocessing.data_import(target='Stab')\n",
    "feature_keys = ['xnumbat', 'onehot_xproto', 'fractional_xnumbat']\n",
    "\n",
    "mlp = MLPClassifier(activation='relu', alpha=0.1,\n",
    "                    hidden_layer_sizes=400, max_iter=400,\n",
    "                    random_state=0, solver='adam')\n",
    "\n",
    "X, y = preprocessing.get_data(features, feature_keys, x_stab)\n",
    "\n",
    "true_values_stability=[]\n",
    "pred_values_stability=[]\n",
    "\n",
    "\n",
    "if make_cross_val:\n",
    "    \n",
    "    cross_val = KFold(n_splits=20,shuffle=True,random_state=0)   \n",
    "    accuracies=[]\n",
    "    f1_scores=[]\n",
    "    for train_index, test_index in cross_val.split(X):\n",
    "        X_train, X_test, y_train, y_test = X[train_index], X[test_index], y[train_index], y[test_index]\n",
    "        \n",
    "        mlp.fit(X_train, y_train)\n",
    "        y_pred = mlp.predict(X_test)\n",
    "    \n",
    "        accuracy,f1=metrics.score_classification(y_test, y_pred, binary=True, verbose=0)\n",
    "        accuracies.append(accuracy)\n",
    "        f1_scores.append(f1)\n",
    "        true_values_stability.append(y_test)\n",
    "        pred_values_stability.append(y_pred)\n",
    "              \n",
    "    true_values_stability=np.concatenate(true_values_stability)\n",
    "    pred_values_stability=np.concatenate(pred_values_stability)  \n",
    "    \n",
    "        \n",
    "    # CV Results    \n",
    "    accuracy,f1=metrics.score_classification(true_values_stability, pred_values_stability, binary=True, verbose=0)\n",
    "    print('CV Test score (ACC):%.3f' % accuracy)\n",
    "    print('CV Test score (F1):%.3f\\n' % f1)\n",
    "     \n",
    "\n",
    "#export the model by training with full data\n",
    "mlp = MLPClassifier(activation='relu', alpha=0.1,\n",
    "                    hidden_layer_sizes=400, max_iter=400,\n",
    "                    random_state=0, solver='adam')\n",
    "\n",
    "mlp.fit(X, y)"
   ]
  }
 ],
 "metadata": {
  "kernelspec": {
   "display_name": "Python 3 (ipykernel)",
   "language": "python",
   "name": "python3"
  },
  "language_info": {
   "codemirror_mode": {
    "name": "ipython",
    "version": 3
   },
   "file_extension": ".py",
   "mimetype": "text/x-python",
   "name": "python",
   "nbconvert_exporter": "python",
   "pygments_lexer": "ipython3",
   "version": "3.8.5"
  }
 },
 "nbformat": 4,
 "nbformat_minor": 5
}
