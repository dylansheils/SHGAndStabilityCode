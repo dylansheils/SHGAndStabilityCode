{
 "cells": [
  {
   "cell_type": "code",
   "execution_count": 124,
   "id": "37733e31",
   "metadata": {},
   "outputs": [],
   "source": [
    "from ase.db import connect\n",
    "import pandas as pd\n",
    "import os\n",
    "from ase.db import connect\n",
    "from pymatgen.core import Composition, Structure\n",
    "from pymatgen.io.ase import AseAtomsAdaptor"
   ]
  },
  {
   "cell_type": "code",
   "execution_count": 125,
   "id": "e9c6bf31",
   "metadata": {},
   "outputs": [],
   "source": [
    "db = connect('c2db.db')"
   ]
  },
  {
   "cell_type": "code",
   "execution_count": 126,
   "id": "c440a8df",
   "metadata": {},
   "outputs": [
    {
     "name": "stdout",
     "output_type": "stream",
     "text": [
      "<ase.db.sqlite.SQLite3Database object at 0x000001D3FB20AA60>\n"
     ]
    }
   ],
   "source": [
    "print(db)\n"
   ]
  },
  {
   "cell_type": "code",
   "execution_count": 218,
   "id": "42869c35",
   "metadata": {},
   "outputs": [],
   "source": [
    "idx = 0\n",
    "\n",
    "rows = db.select('has_asr_shg')"
   ]
  },
  {
   "cell_type": "code",
   "execution_count": 219,
   "id": "ed825fdf",
   "metadata": {},
   "outputs": [
    {
     "name": "stdout",
     "output_type": "stream",
     "text": [
      "156\n"
     ]
    }
   ],
   "source": [
    "print(temp['spgnum'])"
   ]
  },
  {
   "cell_type": "code",
   "execution_count": 220,
   "id": "f01a927a",
   "metadata": {},
   "outputs": [],
   "source": [
    "formulaToSHG = {\"Material: Ag2Se2 | SPG: 10\": [\"nothing\"]}"
   ]
  },
  {
   "cell_type": "code",
   "execution_count": 221,
   "id": "4cf503ce",
   "metadata": {
    "scrolled": false
   },
   "outputs": [],
   "source": [
    "for temp in rows:\n",
    "    formulaToSHG[\"Material: \" + temp.formula + \" | SPG: \" + str(temp['spgnum'])] = temp.data['results-asr.shg.json']"
   ]
  },
  {
   "cell_type": "code",
   "execution_count": 222,
   "id": "e2e7dc8b",
   "metadata": {},
   "outputs": [
    {
     "name": "stdout",
     "output_type": "stream",
     "text": [
      "317\n"
     ]
    }
   ],
   "source": [
    "print(len(formulaToSHG))"
   ]
  },
  {
   "cell_type": "code",
   "execution_count": 223,
   "id": "58a39435",
   "metadata": {},
   "outputs": [
    {
     "name": "stdout",
     "output_type": "stream",
     "text": [
      "dict_keys(['Material: Ag2Se2 | SPG: 10', 'Material: Al2Se2 | SPG: 187', 'Material: Ga2Te2 | SPG: 187', 'Material: GeTe | SPG: 156', 'Material: I2Sb2 | SPG: 12', 'Material: Ir2Se2 | SPG: 187', 'Material: Sn2S2 | SPG: 31', 'Material: CaCl2 | SPG: 187', 'Material: CdCl2 | SPG: 115', 'Material: GeO2 | SPG: 187', 'Material: HfTe2 | SPG: 187', 'Material: PbTe2 | SPG: 115', 'Material: SrCl2 | SPG: 115', 'Material: ZrSe2 | SPG: 115', 'Material: Ga2Cl6 | SPG: 189', 'Material: In2Cl6 | SPG: 189', 'Material: AsBrTe | SPG: 156', 'Material: AsIS | SPG: 156', 'Material: BiIS | SPG: 156', 'Material: ZrClI | SPG: 156', 'Material: ClSbSe | SPG: 156', 'Material: ISbSe | SPG: 156', 'Material: ZrSSe | SPG: 156', 'Material: BN | SPG: 187', 'Material: Cu2Cl2 | SPG: 164', 'Material: HgTe | SPG: 156', 'Material: Tl2S2 | SPG: 164', 'Material: BaCl2 | SPG: 187', 'Material: CaCl2 | SPG: 115', 'Material: CdF2 | SPG: 115', 'Material: CrTe2 | SPG: 187', 'Material: MoTe2 | SPG: 187', 'Material: SnBr2 | SPG: 115', 'Material: SnS2 | SPG: 187', 'Material: SrF2 | SPG: 115', 'Material: TiBr2 | SPG: 187', 'Material: Al2Br6 | SPG: 189', 'Material: Pb2Se6 | SPG: 4', 'Material: Tl2Cl6 | SPG: 189', 'Material: W2Cl6 | SPG: 189', 'Material: BiClS | SPG: 156', 'Material: TiBrCl | SPG: 156', 'Material: BrSSb | SPG: 156', 'Material: ISbTe | SPG: 156', 'Material: Ag2Te2 | SPG: 10', 'Material: BP | SPG: 187', 'Material: In2Se2 | SPG: 187', 'Material: Pb2S2 | SPG: 129', 'Material: SnS | SPG: 156', 'Material: BaCl2 | SPG: 115', 'Material: CdI2 | SPG: 187', 'Material: GeS2 | SPG: 115', 'Material: HfO2 | SPG: 187', 'Material: HgBr2 | SPG: 115', 'Material: PbO2 | SPG: 115', 'Material: SnBr2 | SPG: 187', 'Material: SrI2 | SPG: 115', 'Material: TiO2 | SPG: 187', 'Material: ZnBr2 | SPG: 115', 'Material: ZrSe2 | SPG: 187', 'Material: Al2Cl6 | SPG: 189', 'Material: Sc2Br6 | SPG: 189', 'Material: W2I6 | SPG: 189', 'Material: AsClS | SPG: 156', 'Material: AsISe | SPG: 156', 'Material: HfBrI | SPG: 156', 'Material: ClSbTe | SPG: 156', 'Material: BSb | SPG: 187', 'Material: PbS | SPG: 156', 'Material: Sc2Te2 | SPG: 187', 'Material: BaF2 | SPG: 115', 'Material: CaF2 | SPG: 115', 'Material: HfO2 | SPG: 115', 'Material: HgBr2 | SPG: 187', 'Material: SrI2 | SPG: 187', 'Material: TiO2 | SPG: 115', 'Material: WS2 | SPG: 187', 'Material: ZnBr2 | SPG: 187', 'Material: ZrTe2 | SPG: 115', 'Material: In2I6 | SPG: 189', 'Material: Sc2Cl6 | SPG: 191', 'Material: Tl2I6 | SPG: 189', 'Material: BiISe | SPG: 156', 'Material: ISSb | SPG: 156', 'Material: WSeTe | SPG: 156', 'Material: Hf3N2O2 | SPG: 187', 'Material: Cu2S2 | SPG: 10', 'Material: GaN | SPG: 187', 'Material: Se2Si2 | SPG: 31', 'Material: Tl2Se2 | SPG: 164', 'Material: CaI2 | SPG: 187', 'Material: CdI2 | SPG: 115', 'Material: Br2Ge | SPG: 115', 'Material: HfBr2 | SPG: 187', 'Material: PdSe2 | SPG: 187', 'Material: SnCl2 | SPG: 187', 'Material: TiS2 | SPG: 115', 'Material: Tl2Cl4 | SPG: 10', 'Material: ZrI2 | SPG: 187', 'Material: Al2I6 | SPG: 189', 'Material: Mo2Cl6 | SPG: 189', 'Material: AsClSe | SPG: 156', 'Material: AsITe | SPG: 156', 'Material: BiClSe | SPG: 156', 'Material: AlAs | SPG: 187', 'Material: Al2Te2 | SPG: 187', 'Material: Bi2Se2 | SPG: 164', 'Material: Ga2O2 | SPG: 187', 'Material: V2S2 | SPG: 187', 'Material: Tl2Se2 | SPG: 187', 'Material: BaI2 | SPG: 187', 'Material: CaI2 | SPG: 115', 'Material: CrS2 | SPG: 187', 'Material: Br2Ge | SPG: 187', 'Material: HfS2 | SPG: 187', 'Material: HgCl2 | SPG: 187', 'Material: MoS2 | SPG: 187', 'Material: OsBr2 | SPG: 115', 'Material: PbS2 | SPG: 187', 'Material: SnCl2 | SPG: 115', 'Material: SnSe2 | SPG: 115', 'Material: TiS2 | SPG: 187', 'Material: ZnCl2 | SPG: 115', 'Material: ZrTe2 | SPG: 187', 'Material: Bi2Br6 | SPG: 189', 'Material: BiITe | SPG: 156', 'Material: HfClI | SPG: 156', 'Material: ClSSb | SPG: 156', 'Material: Zr3C2O2 | SPG: 187', 'Material: AsB | SPG: 187', 'Material: GeO | SPG: 156', 'Material: InN | SPG: 187', 'Material: In2Te2 | SPG: 187', 'Material: Rh2O2 | SPG: 187', 'Material: Ti2Te2 | SPG: 187', 'Material: BaI2 | SPG: 115', 'Material: HfS2 | SPG: 115', 'Material: HgCl2 | SPG: 115', 'Material: PbBr2 | SPG: 115', 'Material: PbS2 | SPG: 115', 'Material: TiCl2 | SPG: 187', 'Material: Re2I6 | SPG: 191', 'Material: Sc2I6 | SPG: 189', 'Material: Y2Br6 | SPG: 191', 'Material: AsClTe | SPG: 156', 'Material: BiBrS | SPG: 156', 'Material: BiClTe | SPG: 156', 'Material: TiBrI | SPG: 156', 'Material: MoSSe | SPG: 156', 'Material: ZrSeTe | SPG: 156', 'Material: Ag2Cl2 | SPG: 164', 'Material: AlN | SPG: 187', 'Material: GaP | SPG: 156', 'Material: In2O2 | SPG: 187', 'Material: Ir2O2 | SPG: 187', 'Material: Pb2Se2 | SPG: 129', 'Material: Sn2Se2 | SPG: 31', 'Material: Ti2Te2 | SPG: 164', 'Material: Cl2Ge | SPG: 115', 'Material: GeSe2 | SPG: 115', 'Material: HgF2 | SPG: 115', 'Material: PbBr2 | SPG: 187', 'Material: SnF2 | SPG: 115', 'Material: ZnCl2 | SPG: 187', 'Material: ZrO2 | SPG: 187', 'Material: Bi2Cl6 | SPG: 191', 'Material: Ir2Cl6 | SPG: 164', 'Material: ZrBrCl | SPG: 156', 'Material: HfSSe | SPG: 156', 'Material: MoSTe | SPG: 156', 'Material: Bi2Te2 | SPG: 164', 'Material: Ge2S2 | SPG: 31', 'Material: PbSe | SPG: 156', 'Material: SnSe | SPG: 156', 'Material: HfCl2 | SPG: 187', 'Material: HgI2 | SPG: 187', 'Material: MgBr2 | SPG: 187', 'Material: PbCl2 | SPG: 187', 'Material: SnI2 | SPG: 115', 'Material: ZnF2 | SPG: 115', 'Material: ZrO2 | SPG: 115', 'Material: Rh2Br6 | SPG: 150', 'Material: TiClI | SPG: 156', 'Material: WSTe | SPG: 156', 'Material: Ag2F2 | SPG: 1', 'Material: Al2O2 | SPG: 187', 'Material: GaAs | SPG: 156', 'Material: Bi2Cl2 | SPG: 164', 'Material: Tl2Br2 | SPG: 12', 'Material: GeS | SPG: 156', 'Material: Hg2I2 | SPG: 164', 'Material: InP | SPG: 156', 'Material: Zr2Se2 | SPG: 187', 'Material: Cd2Se4 | SPG: 12', 'Material: FeF2 | SPG: 115', 'Material: Cl2Ge | SPG: 187', 'Material: HgI2 | SPG: 115', 'Material: OsCl2 | SPG: 115', 'Material: PbSe2 | SPG: 187', 'Material: SnTe2 | SPG: 115', 'Material: TiSe2 | SPG: 115', 'Material: WSe2 | SPG: 187', 'Material: Y2Cl6 | SPG: 191', 'Material: BiCrAs | SPG: 156', 'Material: BiBrSe | SPG: 156', 'Material: HfBrCl | SPG: 156', 'Material: CrSSe | SPG: 156', 'Material: MoSeTe | SPG: 156', 'Material: CF2Si | SPG: 156', 'Material: Cd2Te2 | SPG: 164', 'Material: Ga2S2 | SPG: 187', 'Material: Ge2Se2 | SPG: 31', 'Material: HgO | SPG: 187', 'Material: Pb2O2 | SPG: 25', 'Material: W2O2 | SPG: 187', 'Material: V2Se2 | SPG: 187', 'Material: Si2Te2 | SPG: 31', 'Material: Tl2Te2 | SPG: 164', 'Material: F2Ge | SPG: 115', 'Material: HfSe2 | SPG: 115', 'Material: MgCl2 | SPG: 187', 'Material: PbCl2 | SPG: 115', 'Material: PbSe2 | SPG: 115', 'Material: SnI2 | SPG: 187', 'Material: SrBr2 | SPG: 187', 'Material: ZnI2 | SPG: 187', 'Material: ZrBr2 | SPG: 187', 'Material: ZrS2 | SPG: 187', 'Material: Rh2Cl6 | SPG: 164', 'Material: TiSSe | SPG: 156', 'Material: ZrSTe | SPG: 156', 'Material: CH2Si | SPG: 156', 'Material: Hf3C2O2 | SPG: 187', 'Material: InAs | SPG: 156', 'Material: In2Cl2 | SPG: 164', 'Material: Ga2Se2 | SPG: 187', 'Material: HgS | SPG: 156', 'Material: Tl2I2 | SPG: 12', 'Material: In2S2 | SPG: 187', 'Material: Rh2Se2 | SPG: 187', 'Material: Sc2S2 | SPG: 187', 'Material: Sc2Se2 | SPG: 187', 'Material: Tl2Te2 | SPG: 187', 'Material: CdBr2 | SPG: 187', 'Material: CrSe2 | SPG: 187', 'Material: PbF2 | SPG: 115', 'Material: SnO2 | SPG: 115', 'Material: TiI2 | SPG: 187', 'Material: TiSe2 | SPG: 187', 'Material: ZnI2 | SPG: 115', 'Material: ZrS2 | SPG: 115', 'Material: Bi2I6 | SPG: 189', 'Material: Y2I6 | SPG: 189', 'Material: AsBrS | SPG: 156', 'Material: BiBrTe | SPG: 156', 'Material: BrSbSe | SPG: 156', 'Material: HfSeTe | SPG: 156', 'Material: GeSe | SPG: 156', 'Material: PbO | SPG: 156', 'Material: Sc2O2 | SPG: 187', 'Material: Sn2Te2 | SPG: 31', 'Material: BaBr2 | SPG: 187', 'Material: CaBr2 | SPG: 115', 'Material: CdBr2 | SPG: 115', 'Material: GeI2 | SPG: 115', 'Material: HfSe2 | SPG: 187', 'Material: MgI2 | SPG: 187', 'Material: MoSe2 | SPG: 187', 'Material: PbI2 | SPG: 115', 'Material: SrBr2 | SPG: 115', 'Material: WO2 | SPG: 187', 'Material: Ga2Br6 | SPG: 189', 'Material: ZrBrI | SPG: 156', 'Material: CrSTe | SPG: 156', 'Material: Zr3N2O2 | SPG: 187', 'Material: Al2S2 | SPG: 187', 'Material: Au2Te2 | SPG: 187', 'Material: Bi2I2 | SPG: 164', 'Material: Pt2Cl2 | SPG: 164', 'Material: Ge2Te2 | SPG: 31', 'Material: HgSe | SPG: 156', 'Material: Pb2Te2 | SPG: 129', 'Material: S2Si2 | SPG: 31', 'Material: Tl2S2 | SPG: 187', 'Material: Zr2Te2 | SPG: 187', 'Material: CrO2 | SPG: 187', 'Material: GeO2 | SPG: 115', 'Material: HfI2 | SPG: 187', 'Material: MoO2 | SPG: 187', 'Material: SnO2 | SPG: 187', 'Material: TiTe2 | SPG: 115', 'Material: AsBrSe | SPG: 156', 'Material: BrSbTe | SPG: 156', 'Material: WSSe | SPG: 156', 'Material: AlSb | SPG: 156', 'Material: Au2Te2 | SPG: 10', 'Material: Bi2O2 | SPG: 187', 'Material: Cu2I2 | SPG: 164', 'Material: InSb | SPG: 156', 'Material: Ir2S2 | SPG: 187', 'Material: SnO | SPG: 156', 'Material: PbTe | SPG: 156', 'Material: SnTe | SPG: 156', 'Material: V2Te2 | SPG: 187', 'Material: BaBr2 | SPG: 115', 'Material: CaBr2 | SPG: 187', 'Material: CdCl2 | SPG: 187', 'Material: HfTe2 | SPG: 115', 'Material: PbI2 | SPG: 187', 'Material: SnS2 | SPG: 115', 'Material: SrCl2 | SPG: 187', 'Material: WTe2 | SPG: 187', 'Material: ZrCl2 | SPG: 187', 'Material: In2Br6 | SPG: 189', 'Material: Tl2Br6 | SPG: 189', 'Material: W2Br6 | SPG: 189', 'Material: CrSeTe | SPG: 156'])\n"
     ]
    }
   ],
   "source": [
    "print(formulaToSHG.keys())"
   ]
  },
  {
   "cell_type": "code",
   "execution_count": 193,
   "id": "25b45c29",
   "metadata": {},
   "outputs": [],
   "source": [
    "# Only getting 317 of the 375"
   ]
  },
  {
   "cell_type": "code",
   "execution_count": null,
   "id": "4348c44b",
   "metadata": {},
   "outputs": [],
   "source": []
  },
  {
   "cell_type": "code",
   "execution_count": 232,
   "id": "5e8b6b31",
   "metadata": {},
   "outputs": [],
   "source": [
    "import matplotlib.pyplot as plt"
   ]
  },
  {
   "cell_type": "code",
   "execution_count": 238,
   "id": "d76b84d7",
   "metadata": {},
   "outputs": [],
   "source": [
    "arrayOfPlots = []"
   ]
  },
  {
   "cell_type": "code",
   "execution_count": 239,
   "id": "b2b99073",
   "metadata": {},
   "outputs": [
    {
     "data": {
      "text/plain": [
       "<Figure size 432x288 with 0 Axes>"
      ]
     },
     "metadata": {},
     "output_type": "display_data"
    }
   ],
   "source": [
    "import numpy as np\n",
    "for itemName in formulaToSHG.keys():\n",
    "    item = formulaToSHG[itemName]\n",
    "    for key in item['chi']:\n",
    "        plt.plot(item['freqs'], np.abs(item['chi'][key]/10), label=key)\n",
    "    plt.legend()\n",
    "    plt.title(itemName)\n",
    "    plt.xlabel(\"Pump Phonon Energy [eV]\")\n",
    "    plt.ylabel(\"SHG Coefficient\")\n",
    "    plt.savefig(((itemName.replace(\" \", \"\")).replace(\"|\", \"\")).replace(\":\", \"\") + \".png\", dpi=300)\n",
    "    plt.clf()"
   ]
  },
  {
   "cell_type": "code",
   "execution_count": null,
   "id": "65be41df",
   "metadata": {},
   "outputs": [],
   "source": []
  },
  {
   "cell_type": "code",
   "execution_count": null,
   "id": "4fdbbe0a",
   "metadata": {},
   "outputs": [],
   "source": []
  }
 ],
 "metadata": {
  "kernelspec": {
   "display_name": "Python 3 (ipykernel)",
   "language": "python",
   "name": "python3"
  },
  "language_info": {
   "codemirror_mode": {
    "name": "ipython",
    "version": 3
   },
   "file_extension": ".py",
   "mimetype": "text/x-python",
   "name": "python",
   "nbconvert_exporter": "python",
   "pygments_lexer": "ipython3",
   "version": "3.8.5"
  }
 },
 "nbformat": 4,
 "nbformat_minor": 5
}
